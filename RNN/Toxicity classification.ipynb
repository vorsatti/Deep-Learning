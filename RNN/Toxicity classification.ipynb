{
 "cells": [
  {
   "cell_type": "code",
   "execution_count": 1,
   "metadata": {},
   "outputs": [],
   "source": [
    "%reload_ext autoreload\n",
    "%autoreload 2\n",
    "%matplotlib inline"
   ]
  },
  {
   "cell_type": "code",
   "execution_count": 2,
   "metadata": {},
   "outputs": [],
   "source": [
    "import fastai\n",
    "from fastai.text import *"
   ]
  },
  {
   "cell_type": "code",
   "execution_count": 3,
   "metadata": {},
   "outputs": [
    {
     "data": {
      "text/plain": [
       "[PosixPath('data/.ipynb_checkpoints'),\n",
       " PosixPath('data/models'),\n",
       " PosixPath('data/data_clas.pkl'),\n",
       " PosixPath('data/data_lm.pkl'),\n",
       " PosixPath('data/test.csv'),\n",
       " PosixPath('data/test.csv.zip'),\n",
       " PosixPath('data/test_labels.csv'),\n",
       " PosixPath('data/test_labels.csv.zip'),\n",
       " PosixPath('data/train.csv'),\n",
       " PosixPath('data/train.csv.zip')]"
      ]
     },
     "execution_count": 3,
     "metadata": {},
     "output_type": "execute_result"
    }
   ],
   "source": [
    "import os\n",
    "path_to_data = Path('data')\n",
    "path_to_data.ls()"
   ]
  },
  {
   "cell_type": "code",
   "execution_count": 12,
   "metadata": {},
   "outputs": [],
   "source": [
    "#Unzip file downloaded from kaggle website\n",
    "import zipfile\n",
    "with zipfile.ZipFile(str(path_to_data)+\"/train.csv.zip\" , 'r') as zip_ref:\n",
    "    zip_ref.extractall(path_to_data)\n",
    "    \n",
    "with zipfile.ZipFile(str(path_to_data)+\"/test.csv.zip\" , 'r') as zip_ref:\n",
    "    zip_ref.extractall(path_to_data)\n",
    "\n",
    "with zipfile.ZipFile(str(path_to_data)+\"/test_labels.csv.zip\" , 'r') as zip_ref:\n",
    "    zip_ref.extractall(path_to_data)"
   ]
  },
  {
   "cell_type": "code",
   "execution_count": 5,
   "metadata": {},
   "outputs": [
    {
     "data": {
      "text/plain": [
       "[PosixPath('data/models'),\n",
       " PosixPath('data/data_lm.pkl'),\n",
       " PosixPath('data/test.csv'),\n",
       " PosixPath('data/test.csv.zip'),\n",
       " PosixPath('data/test_labels.csv'),\n",
       " PosixPath('data/test_labels.csv.zip'),\n",
       " PosixPath('data/train.csv'),\n",
       " PosixPath('data/train.csv.zip')]"
      ]
     },
     "execution_count": 5,
     "metadata": {},
     "output_type": "execute_result"
    }
   ],
   "source": [
    "path_to_data.ls()"
   ]
  },
  {
   "cell_type": "markdown",
   "metadata": {},
   "source": [
    "## Data"
   ]
  },
  {
   "cell_type": "code",
   "execution_count": 6,
   "metadata": {},
   "outputs": [],
   "source": [
    "df = pd.read_csv(str(path_to_data) + \"/train.csv\")"
   ]
  },
  {
   "cell_type": "code",
   "execution_count": 15,
   "metadata": {
    "scrolled": true
   },
   "outputs": [
    {
     "data": {
      "text/html": [
       "<div>\n",
       "<style scoped>\n",
       "    .dataframe tbody tr th:only-of-type {\n",
       "        vertical-align: middle;\n",
       "    }\n",
       "\n",
       "    .dataframe tbody tr th {\n",
       "        vertical-align: top;\n",
       "    }\n",
       "\n",
       "    .dataframe thead th {\n",
       "        text-align: right;\n",
       "    }\n",
       "</style>\n",
       "<table border=\"1\" class=\"dataframe\">\n",
       "  <thead>\n",
       "    <tr style=\"text-align: right;\">\n",
       "      <th></th>\n",
       "      <th>id</th>\n",
       "      <th>comment_text</th>\n",
       "      <th>toxic</th>\n",
       "      <th>severe_toxic</th>\n",
       "      <th>obscene</th>\n",
       "      <th>threat</th>\n",
       "      <th>insult</th>\n",
       "      <th>identity_hate</th>\n",
       "    </tr>\n",
       "  </thead>\n",
       "  <tbody>\n",
       "    <tr>\n",
       "      <th>0</th>\n",
       "      <td>0000997932d777bf</td>\n",
       "      <td>Explanation\\nWhy the edits made under my usern...</td>\n",
       "      <td>0</td>\n",
       "      <td>0</td>\n",
       "      <td>0</td>\n",
       "      <td>0</td>\n",
       "      <td>0</td>\n",
       "      <td>0</td>\n",
       "    </tr>\n",
       "    <tr>\n",
       "      <th>1</th>\n",
       "      <td>000103f0d9cfb60f</td>\n",
       "      <td>D'aww! He matches this background colour I'm s...</td>\n",
       "      <td>0</td>\n",
       "      <td>0</td>\n",
       "      <td>0</td>\n",
       "      <td>0</td>\n",
       "      <td>0</td>\n",
       "      <td>0</td>\n",
       "    </tr>\n",
       "    <tr>\n",
       "      <th>2</th>\n",
       "      <td>000113f07ec002fd</td>\n",
       "      <td>Hey man, I'm really not trying to edit war. It...</td>\n",
       "      <td>0</td>\n",
       "      <td>0</td>\n",
       "      <td>0</td>\n",
       "      <td>0</td>\n",
       "      <td>0</td>\n",
       "      <td>0</td>\n",
       "    </tr>\n",
       "    <tr>\n",
       "      <th>3</th>\n",
       "      <td>0001b41b1c6bb37e</td>\n",
       "      <td>\"\\nMore\\nI can't make any real suggestions on ...</td>\n",
       "      <td>0</td>\n",
       "      <td>0</td>\n",
       "      <td>0</td>\n",
       "      <td>0</td>\n",
       "      <td>0</td>\n",
       "      <td>0</td>\n",
       "    </tr>\n",
       "    <tr>\n",
       "      <th>4</th>\n",
       "      <td>0001d958c54c6e35</td>\n",
       "      <td>You, sir, are my hero. Any chance you remember...</td>\n",
       "      <td>0</td>\n",
       "      <td>0</td>\n",
       "      <td>0</td>\n",
       "      <td>0</td>\n",
       "      <td>0</td>\n",
       "      <td>0</td>\n",
       "    </tr>\n",
       "    <tr>\n",
       "      <th>5</th>\n",
       "      <td>00025465d4725e87</td>\n",
       "      <td>\"\\n\\nCongratulations from me as well, use the ...</td>\n",
       "      <td>0</td>\n",
       "      <td>0</td>\n",
       "      <td>0</td>\n",
       "      <td>0</td>\n",
       "      <td>0</td>\n",
       "      <td>0</td>\n",
       "    </tr>\n",
       "    <tr>\n",
       "      <th>6</th>\n",
       "      <td>0002bcb3da6cb337</td>\n",
       "      <td>COCKSUCKER BEFORE YOU PISS AROUND ON MY WORK</td>\n",
       "      <td>1</td>\n",
       "      <td>1</td>\n",
       "      <td>1</td>\n",
       "      <td>0</td>\n",
       "      <td>1</td>\n",
       "      <td>0</td>\n",
       "    </tr>\n",
       "    <tr>\n",
       "      <th>7</th>\n",
       "      <td>00031b1e95af7921</td>\n",
       "      <td>Your vandalism to the Matt Shirvington article...</td>\n",
       "      <td>0</td>\n",
       "      <td>0</td>\n",
       "      <td>0</td>\n",
       "      <td>0</td>\n",
       "      <td>0</td>\n",
       "      <td>0</td>\n",
       "    </tr>\n",
       "    <tr>\n",
       "      <th>8</th>\n",
       "      <td>00037261f536c51d</td>\n",
       "      <td>Sorry if the word 'nonsense' was offensive to ...</td>\n",
       "      <td>0</td>\n",
       "      <td>0</td>\n",
       "      <td>0</td>\n",
       "      <td>0</td>\n",
       "      <td>0</td>\n",
       "      <td>0</td>\n",
       "    </tr>\n",
       "    <tr>\n",
       "      <th>9</th>\n",
       "      <td>00040093b2687caa</td>\n",
       "      <td>alignment on this subject and which are contra...</td>\n",
       "      <td>0</td>\n",
       "      <td>0</td>\n",
       "      <td>0</td>\n",
       "      <td>0</td>\n",
       "      <td>0</td>\n",
       "      <td>0</td>\n",
       "    </tr>\n",
       "  </tbody>\n",
       "</table>\n",
       "</div>"
      ],
      "text/plain": [
       "                 id                                       comment_text  toxic  \\\n",
       "0  0000997932d777bf  Explanation\\nWhy the edits made under my usern...      0   \n",
       "1  000103f0d9cfb60f  D'aww! He matches this background colour I'm s...      0   \n",
       "2  000113f07ec002fd  Hey man, I'm really not trying to edit war. It...      0   \n",
       "3  0001b41b1c6bb37e  \"\\nMore\\nI can't make any real suggestions on ...      0   \n",
       "4  0001d958c54c6e35  You, sir, are my hero. Any chance you remember...      0   \n",
       "5  00025465d4725e87  \"\\n\\nCongratulations from me as well, use the ...      0   \n",
       "6  0002bcb3da6cb337       COCKSUCKER BEFORE YOU PISS AROUND ON MY WORK      1   \n",
       "7  00031b1e95af7921  Your vandalism to the Matt Shirvington article...      0   \n",
       "8  00037261f536c51d  Sorry if the word 'nonsense' was offensive to ...      0   \n",
       "9  00040093b2687caa  alignment on this subject and which are contra...      0   \n",
       "\n",
       "   severe_toxic  obscene  threat  insult  identity_hate  \n",
       "0             0        0       0       0              0  \n",
       "1             0        0       0       0              0  \n",
       "2             0        0       0       0              0  \n",
       "3             0        0       0       0              0  \n",
       "4             0        0       0       0              0  \n",
       "5             0        0       0       0              0  \n",
       "6             1        1       0       1              0  \n",
       "7             0        0       0       0              0  \n",
       "8             0        0       0       0              0  \n",
       "9             0        0       0       0              0  "
      ]
     },
     "execution_count": 15,
     "metadata": {},
     "output_type": "execute_result"
    }
   ],
   "source": [
    "df.head(10)"
   ]
  },
  {
   "cell_type": "markdown",
   "metadata": {},
   "source": [
    "## Language Model"
   ]
  },
  {
   "cell_type": "code",
   "execution_count": 4,
   "metadata": {
    "scrolled": true
   },
   "outputs": [
    {
     "data": {
      "text/plain": [
       "[PosixPath('data/.ipynb_checkpoints'),\n",
       " PosixPath('data/models'),\n",
       " PosixPath('data/data_clas.pkl'),\n",
       " PosixPath('data/data_lm.pkl'),\n",
       " PosixPath('data/test.csv'),\n",
       " PosixPath('data/test.csv.zip'),\n",
       " PosixPath('data/test_labels.csv'),\n",
       " PosixPath('data/test_labels.csv.zip'),\n",
       " PosixPath('data/train.csv'),\n",
       " PosixPath('data/train.csv.zip')]"
      ]
     },
     "execution_count": 4,
     "metadata": {},
     "output_type": "execute_result"
    }
   ],
   "source": [
    "path = Path(path_to_data)\n",
    "path.ls()"
   ]
  },
  {
   "cell_type": "code",
   "execution_count": 5,
   "metadata": {},
   "outputs": [],
   "source": [
    "#Batch size\n",
    "bs=24"
   ]
  },
  {
   "cell_type": "code",
   "execution_count": 9,
   "metadata": {},
   "outputs": [
    {
     "data": {
      "text/html": [],
      "text/plain": [
       "<IPython.core.display.HTML object>"
      ]
     },
     "metadata": {},
     "output_type": "display_data"
    },
    {
     "data": {
      "text/html": [],
      "text/plain": [
       "<IPython.core.display.HTML object>"
      ]
     },
     "metadata": {},
     "output_type": "display_data"
    }
   ],
   "source": [
    "#Create a databunch for our Language Model\n",
    "data_lm = (TextList.from_df(df, cols=1).split_by_rand_pct(0.1).label_for_lm().databunch(bs=bs)) "
   ]
  },
  {
   "cell_type": "code",
   "execution_count": 19,
   "metadata": {},
   "outputs": [],
   "source": [
    "data_lm.save(str(path) + '/data_lm.pkl')"
   ]
  },
  {
   "cell_type": "code",
   "execution_count": 9,
   "metadata": {},
   "outputs": [
    {
     "data": {
      "text/html": [
       "<table border=\"1\" class=\"dataframe\">\n",
       "  <thead>\n",
       "    <tr style=\"text-align: right;\">\n",
       "      <th>idx</th>\n",
       "      <th>text</th>\n",
       "    </tr>\n",
       "  </thead>\n",
       "  <tbody>\n",
       "    <tr>\n",
       "      <td>0</td>\n",
       "      <td>. xxmaj he seems to care more about the formatting than the actual info . xxbos \" \\n  xxmaj more \\n  i ca n't make any real suggestions on improvement - i wondered if the section statistics should be later on , or a subsection of \" \" types of accidents \" \" xxup -i think the references may need tidying so that they are all in the</td>\n",
       "    </tr>\n",
       "    <tr>\n",
       "      <td>1</td>\n",
       "      <td>in place . xxmaj makes me feel real good about your judgement in xxunk me . xxmaj sorta . xxmaj everyme \" xxbos \" \\n  i am gratified that you have truthfully explained your assumptions of bad faith . i dislike dishonesty more than most . i endeavor to keep xxmaj the xxmaj big xxmaj boys honest , which includes you since you immigrated over here , so do</td>\n",
       "    </tr>\n",
       "    <tr>\n",
       "      <td>2</td>\n",
       "      <td>xxmaj thank you , best wishes . xxbos \" \\n \\n  xxmaj gatherer xxmaj code \\n \\n  xxmaj there is another internal to xxup xxunk code for each set . xxmaj the code is used in \" \" xxmaj gatherer \" \" when an expansion set is chosen in the advanced search . xxmaj sometimes these codes match up to the internal code that is already here but</td>\n",
       "    </tr>\n",
       "    <tr>\n",
       "      <td>3</td>\n",
       "      <td>xxunk \" \" . xxmaj my goal was to add some more description to what hoodoo is by discussing some of the underlying symbolism and worldview . i 'm missing a quote that i have n't been able to track down , in xxmaj hyatt 's book vol 1 xxmaj hoodoo - xxmaj xxunk and xxunk , there is an xxunk who says something along the lines of , \"</td>\n",
       "    </tr>\n",
       "    <tr>\n",
       "      <td>4</td>\n",
       "      <td>n't consensus to delete at that point . ) ✽ \\n \\n  \" xxbos xxmaj xxunk ] ] 19:02 , 3 xxmaj jan 2004 ( xxup utc ) xxbos \" \\n \\n  xxup prep vs. xxmaj quick xxmaj count \\n \\n  xxmaj the text of the article suggests ( and states overtly at least once ) that the xxup prep and the xxmaj quick xxmaj count are</td>\n",
       "    </tr>\n",
       "  </tbody>\n",
       "</table>"
      ],
      "text/plain": [
       "<IPython.core.display.HTML object>"
      ]
     },
     "metadata": {},
     "output_type": "display_data"
    }
   ],
   "source": [
    "data_lm = load_data(path, 'data_lm.pkl', bs=bs)\n",
    "data_lm.show_batch(5)"
   ]
  },
  {
   "cell_type": "code",
   "execution_count": 21,
   "metadata": {},
   "outputs": [],
   "source": [
    "learn = language_model_learner(data_lm, AWD_LSTM, drop_mult=0.3)"
   ]
  },
  {
   "cell_type": "code",
   "execution_count": 23,
   "metadata": {},
   "outputs": [
    {
     "data": {
      "text/html": [
       "\n",
       "    <div>\n",
       "        <style>\n",
       "            /* Turns off some styling */\n",
       "            progress {\n",
       "                /* gets rid of default border in Firefox and Opera. */\n",
       "                border: none;\n",
       "                /* Needs to be in here for Safari polyfill so background images work as expected. */\n",
       "                background-size: auto;\n",
       "            }\n",
       "            .progress-bar-interrupted, .progress-bar-interrupted::-webkit-progress-bar {\n",
       "                background: #F44336;\n",
       "            }\n",
       "        </style>\n",
       "      <progress value='0' class='' max='1', style='width:300px; height:20px; vertical-align: middle;'></progress>\n",
       "      0.00% [0/1 00:00<00:00]\n",
       "    </div>\n",
       "    \n",
       "<table border=\"1\" class=\"dataframe\">\n",
       "  <thead>\n",
       "    <tr style=\"text-align: left;\">\n",
       "      <th>epoch</th>\n",
       "      <th>train_loss</th>\n",
       "      <th>valid_loss</th>\n",
       "      <th>accuracy</th>\n",
       "      <th>time</th>\n",
       "    </tr>\n",
       "  </thead>\n",
       "  <tbody>\n",
       "  </tbody>\n",
       "</table><p>\n",
       "\n",
       "    <div>\n",
       "        <style>\n",
       "            /* Turns off some styling */\n",
       "            progress {\n",
       "                /* gets rid of default border in Firefox and Opera. */\n",
       "                border: none;\n",
       "                /* Needs to be in here for Safari polyfill so background images work as expected. */\n",
       "                background-size: auto;\n",
       "            }\n",
       "            .progress-bar-interrupted, .progress-bar-interrupted::-webkit-progress-bar {\n",
       "                background: #F44336;\n",
       "            }\n",
       "        </style>\n",
       "      <progress value='99' class='' max='7952', style='width:300px; height:20px; vertical-align: middle;'></progress>\n",
       "      1.24% [99/7952 00:34<45:04 11.5145]\n",
       "    </div>\n",
       "    "
      ],
      "text/plain": [
       "<IPython.core.display.HTML object>"
      ]
     },
     "metadata": {},
     "output_type": "display_data"
    },
    {
     "name": "stdout",
     "output_type": "stream",
     "text": [
      "LR Finder is complete, type {learner_name}.recorder.plot() to see the graph.\n"
     ]
    }
   ],
   "source": [
    "learn.lr_find(num_it=100)"
   ]
  },
  {
   "cell_type": "markdown",
   "metadata": {},
   "source": [
    "With suggestion=True in learn.recorder.plot, we will see the point where the gardient is the steepest"
   ]
  },
  {
   "cell_type": "code",
   "execution_count": 24,
   "metadata": {},
   "outputs": [
    {
     "name": "stdout",
     "output_type": "stream",
     "text": [
      "Min numerical gradient: 2.29E-02\n",
      "Min loss divided by 10: 6.92E-03\n"
     ]
    },
    {
     "data": {
      "image/png": "[encoded data removed]",
      "text/plain": [
       "<Figure size 432x288 with 1 Axes>"
      ]
     },
     "metadata": {
      "needs_background": "light"
     },
     "output_type": "display_data"
    }
   ],
   "source": [
    "learn.recorder.plot(suggestion=True, skip_end=15)"
   ]
  },
  {
   "cell_type": "code",
   "execution_count": 25,
   "metadata": {},
   "outputs": [
    {
     "data": {
      "text/plain": [
       "0.022908676527677745"
      ]
     },
     "execution_count": 25,
     "metadata": {},
     "output_type": "execute_result"
    }
   ],
   "source": [
    "min_grad_lr = learn.recorder.min_grad_lr\n",
    "min_grad_lr"
   ]
  },
  {
   "cell_type": "code",
   "execution_count": 26,
   "metadata": {},
   "outputs": [
    {
     "data": {
      "text/html": [
       "<table border=\"1\" class=\"dataframe\">\n",
       "  <thead>\n",
       "    <tr style=\"text-align: left;\">\n",
       "      <th>epoch</th>\n",
       "      <th>train_loss</th>\n",
       "      <th>valid_loss</th>\n",
       "      <th>accuracy</th>\n",
       "      <th>time</th>\n",
       "    </tr>\n",
       "  </thead>\n",
       "  <tbody>\n",
       "    <tr>\n",
       "      <td>0</td>\n",
       "      <td>4.320640</td>\n",
       "      <td>4.114595</td>\n",
       "      <td>0.309839</td>\n",
       "      <td>47:33</td>\n",
       "    </tr>\n",
       "  </tbody>\n",
       "</table>"
      ],
      "text/plain": [
       "<IPython.core.display.HTML object>"
      ]
     },
     "metadata": {},
     "output_type": "display_data"
    }
   ],
   "source": [
    "learn.fit_one_cycle(1, min_grad_lr, moms=(0.8,0.7))"
   ]
  },
  {
   "cell_type": "code",
   "execution_count": 27,
   "metadata": {},
   "outputs": [],
   "source": [
    "learn.save('fit_head')"
   ]
  },
  {
   "cell_type": "code",
   "execution_count": 28,
   "metadata": {},
   "outputs": [],
   "source": [
    "learn.load('fit_head');"
   ]
  },
  {
   "cell_type": "markdown",
   "metadata": {},
   "source": [
    "To complete the fine-tuning, we can then unfeeze and launch a new training."
   ]
  },
  {
   "cell_type": "code",
   "execution_count": 29,
   "metadata": {},
   "outputs": [],
   "source": [
    "learn.unfreeze()"
   ]
  },
  {
   "cell_type": "code",
   "execution_count": 30,
   "metadata": {},
   "outputs": [
    {
     "data": {
      "text/html": [
       "<table border=\"1\" class=\"dataframe\">\n",
       "  <thead>\n",
       "    <tr style=\"text-align: left;\">\n",
       "      <th>epoch</th>\n",
       "      <th>train_loss</th>\n",
       "      <th>valid_loss</th>\n",
       "      <th>accuracy</th>\n",
       "      <th>time</th>\n",
       "    </tr>\n",
       "  </thead>\n",
       "  <tbody>\n",
       "    <tr>\n",
       "      <td>0</td>\n",
       "      <td>4.425241</td>\n",
       "      <td>4.394435</td>\n",
       "      <td>0.287190</td>\n",
       "      <td>54:20</td>\n",
       "    </tr>\n",
       "    <tr>\n",
       "      <td>1</td>\n",
       "      <td>4.378030</td>\n",
       "      <td>4.321069</td>\n",
       "      <td>0.295596</td>\n",
       "      <td>54:19</td>\n",
       "    </tr>\n",
       "    <tr>\n",
       "      <td>2</td>\n",
       "      <td>4.116281</td>\n",
       "      <td>4.167389</td>\n",
       "      <td>0.311328</td>\n",
       "      <td>54:23</td>\n",
       "    </tr>\n",
       "    <tr>\n",
       "      <td>3</td>\n",
       "      <td>3.979223</td>\n",
       "      <td>3.966848</td>\n",
       "      <td>0.334828</td>\n",
       "      <td>54:22</td>\n",
       "    </tr>\n",
       "    <tr>\n",
       "      <td>4</td>\n",
       "      <td>3.956095</td>\n",
       "      <td>3.866158</td>\n",
       "      <td>0.348071</td>\n",
       "      <td>54:23</td>\n",
       "    </tr>\n",
       "  </tbody>\n",
       "</table>"
      ],
      "text/plain": [
       "<IPython.core.display.HTML object>"
      ]
     },
     "metadata": {},
     "output_type": "display_data"
    }
   ],
   "source": [
    "learn.fit_one_cycle(5, min_grad_lr, moms=(0.8,0.7))"
   ]
  },
  {
   "cell_type": "code",
   "execution_count": 31,
   "metadata": {},
   "outputs": [],
   "source": [
    "learn.save('fine_tuned')"
   ]
  },
  {
   "cell_type": "markdown",
   "metadata": {},
   "source": [
    "We have to save not only the model, but also its encoder, the part that's responsible for creating and updating the hidden state."
   ]
  },
  {
   "cell_type": "code",
   "execution_count": 32,
   "metadata": {},
   "outputs": [],
   "source": [
    "learn.save_encoder('fine_tuned_enc')"
   ]
  },
  {
   "cell_type": "markdown",
   "metadata": {},
   "source": [
    "## Classifier"
   ]
  },
  {
   "cell_type": "markdown",
   "metadata": {},
   "source": [
    "Now, we'll create a new data object that only grabs the labelled data and keeps those labels."
   ]
  },
  {
   "cell_type": "code",
   "execution_count": 10,
   "metadata": {},
   "outputs": [],
   "source": [
    "valid_test = pd.read_csv(str(path) + '/test.csv')\n",
    "\n",
    "test_datalist = TextList.from_df(valid_test, cols='comment_text', vocab=data_lm.vocab)"
   ]
  },
  {
   "cell_type": "code",
   "execution_count": 11,
   "metadata": {},
   "outputs": [],
   "source": [
    "data_clas = TextList.from_csv(path, 'train.csv', cols='comment_text', vocab=data_lm.vocab)\\\n",
    "                .split_by_rand_pct(0.1)"
   ]
  },
  {
   "cell_type": "code",
   "execution_count": 12,
   "metadata": {},
   "outputs": [
    {
     "data": {
      "text/html": [],
      "text/plain": [
       "<IPython.core.display.HTML object>"
      ]
     },
     "metadata": {},
     "output_type": "display_data"
    },
    {
     "data": {
      "text/html": [],
      "text/plain": [
       "<IPython.core.display.HTML object>"
      ]
     },
     "metadata": {},
     "output_type": "display_data"
    },
    {
     "data": {
      "text/plain": [
       "LabelLists;\n",
       "\n",
       "Train: LabelList (143614 items)\n",
       "x: TextList\n",
       "xxbos xxmaj explanation \n",
       "  xxmaj why the edits made under my username xxmaj hardcore xxmaj metallica xxmaj fan were reverted ? xxmaj they were n't vandalisms , just closure on some gas after i voted at xxmaj new xxmaj york xxmaj dolls xxup fac . xxmaj and please do n't remove the template from the talk page since i 'm retired xxunk,xxbos xxmaj xxunk ! xxmaj he matches this background colour i 'm seemingly stuck with . xxmaj thanks . ( talk ) 21:51 , xxmaj january 11 , 2016 ( xxup utc ),xxbos xxmaj hey man , i 'm really not trying to edit war . xxmaj it 's just that this guy is constantly removing relevant information and talking to me through edits instead of my talk page . xxmaj he seems to care more about the formatting than the actual info .,xxbos \" \n",
       "  xxmaj more \n",
       "  i ca n't make any real suggestions on improvement - i wondered if the section statistics should be later on , or a subsection of \" \" types of accidents \" \" xxup -i think the references may need tidying so that they are all in the exact same format ie date format etc . i can do that later on , if no - one else does first - if you have any preferences for formatting style on references or want to do it yourself please let me know . \n",
       " \n",
       "  xxmaj there appears to be a backlog on articles for review so i guess there may be a delay until a reviewer turns up . xxmaj it 's listed in the relevant form eg xxmaj wikipedia : xxmaj xxunk # xxmaj transport \",xxbos xxmaj you , sir , are my hero . xxmaj any chance you remember what page that 's on ?\n",
       "y: MultiCategoryList\n",
       ",,,,\n",
       "Path: data;\n",
       "\n",
       "Valid: LabelList (15957 items)\n",
       "x: TextList\n",
       "xxbos xxmaj march 2012 ( xxup utc ) \n",
       "  right on . xxmaj great idea to use the xxmaj amazon feature ! xxmaj glad you wrestled this one to the ground . xxmaj and you 're right . xxmaj my refs are accurate . xxmaj going to making a few other edits in the next few days . xxmaj found one problem in particular with another editor 's assertion . xxmaj later , 17:17 , 27,xxbos xxup fuck xxup you ! xxup fuck xxup you ! xxup fuck xxup you ! xxup fuck xxup you ! \n",
       "  xxup fuck xxup you ! xxup fuck xxup you ! \n",
       "  xxup fuck xxup you ! xxup fuck xxup you ! \n",
       "  xxup fuck xxup you ! xxup fuck xxup you ! \n",
       "  xxup fuck xxup you ! xxup fuck xxup you ! \n",
       "  xxup fuck xxup you ! xxup fuck xxup you ! \n",
       "  xxup fuck xxup you ! xxup fuck xxup you ! \n",
       "  xxup fuck xxup you ! xxup fuck xxup you !,xxbos xxmaj if you do n't want to help the cat that 's been run over then do n't stand there and xxup poke xxup it .,xxbos xxmaj now i know what the money that i have contributed to wikipedia has really been used for . xxmaj thank you for the lesson .,xxbos xxmaj advice \n",
       " \n",
       "  i and a few other editors have noticed what appears to be a tendency to ignore consensus , engage in tendentious editing , and create xxup pov forks like xxmaj theistic evolution and the xxmaj roman xxmaj catholic xxmaj church and xxmaj creation and the xxmaj roman xxmaj catholic xxmaj church . xxmaj these will almost certainly be deleted in a few days . xxmaj you are creating ill will and turmoil , and i am pleading with you to try to behave in a constructive manner instead of your past behavior here . xxmaj if this continues , you will be banned , or blocked or otherwise restricted from xxmaj wikipedia . xxmaj please do not push us to that point . xxmaj take a step back , and try to work with us , rather than against us . xxmaj or else , a huge amount of effort will be wasted , you will not be able to edit here , and nothing of your work will be left here . xxmaj so please , take this very seriously .\n",
       "y: MultiCategoryList\n",
       ",toxic;severe_toxic;obscene,,,\n",
       "Path: data;\n",
       "\n",
       "Test: None"
      ]
     },
     "execution_count": 12,
     "metadata": {},
     "output_type": "execute_result"
    }
   ],
   "source": [
    "data_clas = data_clas.label_from_df(cols=['toxic', 'severe_toxic', 'obscene', 'threat',  'insult', 'identity_hate'])\n",
    "data_clas"
   ]
  },
  {
   "cell_type": "code",
   "execution_count": 13,
   "metadata": {},
   "outputs": [
    {
     "data": {
      "text/html": [],
      "text/plain": [
       "<IPython.core.display.HTML object>"
      ]
     },
     "metadata": {},
     "output_type": "display_data"
    }
   ],
   "source": [
    "data_clas = data_clas.add_test(test_datalist)"
   ]
  },
  {
   "cell_type": "code",
   "execution_count": 14,
   "metadata": {},
   "outputs": [],
   "source": [
    "data_clas = data_clas.databunch(bs=bs)"
   ]
  },
  {
   "cell_type": "code",
   "execution_count": 15,
   "metadata": {
    "scrolled": true
   },
   "outputs": [
    {
     "data": {
      "text/html": [
       "<table border=\"1\" class=\"dataframe\">\n",
       "  <thead>\n",
       "    <tr style=\"text-align: right;\">\n",
       "      <th>text</th>\n",
       "      <th>target</th>\n",
       "    </tr>\n",
       "  </thead>\n",
       "  <tbody>\n",
       "    <tr>\n",
       "      <td>xxbos xxmaj take that ! \\n \\n  xxup in xxup the xxup ass xxup in xxup the xxup ass xxup in xxup the xxup ass xxup in xxup the xxup ass xxup in xxup the xxup ass xxup in xxup the xxup ass xxup in xxup the xxup ass xxup in xxup the xxup ass xxup in xxup the xxup ass xxup in xxup the xxup ass xxup in</td>\n",
       "      <td>toxic;severe_toxic;obscene</td>\n",
       "    </tr>\n",
       "    <tr>\n",
       "      <td>xxbos xxmaj go fuck yourself ! xxmaj go fuck yourself ! xxmaj go fuck yourself ! xxmaj go fuck yourself ! xxmaj go fuck yourself ! xxmaj go fuck yourself ! xxmaj go fuck yourself ! xxmaj go fuck yourself ! xxmaj go fuck yourself ! xxmaj go fuck yourself ! xxmaj go fuck yourself ! xxmaj go fuck yourself ! xxmaj go fuck yourself ! xxmaj go fuck yourself</td>\n",
       "      <td>toxic;severe_toxic;obscene;insult</td>\n",
       "    </tr>\n",
       "    <tr>\n",
       "      <td>xxbos \" \\n \\n  xxmaj what were you ranting about ? \\n \\n  xxmaj are you talking to me , or the 300 + people who 've downloaded this refutation of you and your uncivil friends ? : http : / / www.mininova.org / tor / 1264745 \\n \\n  xxmaj and so that everyone can see part of it here : \\n \\n  joshuaz said :</td>\n",
       "      <td></td>\n",
       "    </tr>\n",
       "    <tr>\n",
       "      <td>xxbos \" = = xxmaj macedonians / xxmaj macedonian xxmaj slavs = = \\n \\n  i was under impression that the name of the article would change to a compromising variant : xxmaj macedonians ( nation ) , xxmaj macedonians ( nationality ) , xxmaj macedonians ( people ) or whatever since the resources shown clearly point that xxmaj macedonian xxmaj slavs is rather inappropriate . i 'm glad</td>\n",
       "      <td></td>\n",
       "    </tr>\n",
       "    <tr>\n",
       "      <td>xxbos \" \\n \\n  xxmaj where does it say that featured articles have different requirements then other articles ? xxmaj jeepday \\n \\n  xxmaj the whole point in to get citations for all articles so that they meet the xxup wp : v requirements , i have noticed that tags quite often help by bringing this to attention of users , particularly new - ish users . xxmaj</td>\n",
       "      <td>toxic;severe_toxic;obscene;insult</td>\n",
       "    </tr>\n",
       "  </tbody>\n",
       "</table>"
      ],
      "text/plain": [
       "<IPython.core.display.HTML object>"
      ]
     },
     "metadata": {},
     "output_type": "display_data"
    }
   ],
   "source": [
    "data_clas.show_batch(5)"
   ]
  },
  {
   "cell_type": "code",
   "execution_count": 27,
   "metadata": {},
   "outputs": [],
   "source": [
    "data_clas.save('data_clas.pkl')"
   ]
  },
  {
   "cell_type": "code",
   "execution_count": 6,
   "metadata": {},
   "outputs": [],
   "source": [
    "data_clas = load_data(path, 'data_clas.pkl', bs=bs)"
   ]
  },
  {
   "cell_type": "code",
   "execution_count": 8,
   "metadata": {},
   "outputs": [
    {
     "data": {
      "text/plain": [
       "RNNLearner(data=TextClasDataBunch;\n",
       "\n",
       "Train: LabelList (143614 items)\n",
       "x: TextList\n",
       "xxbos xxmaj explanation \n",
       "  xxmaj why the edits made under my username xxmaj hardcore xxmaj metallica xxmaj fan were reverted ? xxmaj they were n't vandalisms , just closure on some gas after i voted at xxmaj new xxmaj york xxmaj dolls xxup fac . xxmaj and please do n't remove the template from the talk page since i 'm retired xxunk,xxbos xxmaj xxunk ! xxmaj he matches this background colour i 'm seemingly stuck with . xxmaj thanks . ( talk ) 21:51 , xxmaj january 11 , 2016 ( xxup utc ),xxbos xxmaj hey man , i 'm really not trying to edit war . xxmaj it 's just that this guy is constantly removing relevant information and talking to me through edits instead of my talk page . xxmaj he seems to care more about the formatting than the actual info .,xxbos \" \n",
       "  xxmaj more \n",
       "  i ca n't make any real suggestions on improvement - i wondered if the section statistics should be later on , or a subsection of \" \" types of accidents \" \" xxup -i think the references may need tidying so that they are all in the exact same format ie date format etc . i can do that later on , if no - one else does first - if you have any preferences for formatting style on references or want to do it yourself please let me know . \n",
       " \n",
       "  xxmaj there appears to be a backlog on articles for review so i guess there may be a delay until a reviewer turns up . xxmaj it 's listed in the relevant form eg xxmaj wikipedia : xxmaj xxunk # xxmaj transport \",xxbos xxmaj you , sir , are my hero . xxmaj any chance you remember what page that 's on ?\n",
       "y: MultiCategoryList\n",
       ",,,,\n",
       "Path: data;\n",
       "\n",
       "Valid: LabelList (15957 items)\n",
       "x: TextList\n",
       "xxbos xxmaj march 2012 ( xxup utc ) \n",
       "  right on . xxmaj great idea to use the xxmaj amazon feature ! xxmaj glad you wrestled this one to the ground . xxmaj and you 're right . xxmaj my refs are accurate . xxmaj going to making a few other edits in the next few days . xxmaj found one problem in particular with another editor 's assertion . xxmaj later , 17:17 , 27,xxbos xxup fuck xxup you ! xxup fuck xxup you ! xxup fuck xxup you ! xxup fuck xxup you ! \n",
       "  xxup fuck xxup you ! xxup fuck xxup you ! \n",
       "  xxup fuck xxup you ! xxup fuck xxup you ! \n",
       "  xxup fuck xxup you ! xxup fuck xxup you ! \n",
       "  xxup fuck xxup you ! xxup fuck xxup you ! \n",
       "  xxup fuck xxup you ! xxup fuck xxup you ! \n",
       "  xxup fuck xxup you ! xxup fuck xxup you ! \n",
       "  xxup fuck xxup you ! xxup fuck xxup you !,xxbos xxmaj if you do n't want to help the cat that 's been run over then do n't stand there and xxup poke xxup it .,xxbos xxmaj now i know what the money that i have contributed to wikipedia has really been used for . xxmaj thank you for the lesson .,xxbos xxmaj advice \n",
       " \n",
       "  i and a few other editors have noticed what appears to be a tendency to ignore consensus , engage in tendentious editing , and create xxup pov forks like xxmaj theistic evolution and the xxmaj roman xxmaj catholic xxmaj church and xxmaj creation and the xxmaj roman xxmaj catholic xxmaj church . xxmaj these will almost certainly be deleted in a few days . xxmaj you are creating ill will and turmoil , and i am pleading with you to try to behave in a constructive manner instead of your past behavior here . xxmaj if this continues , you will be banned , or blocked or otherwise restricted from xxmaj wikipedia . xxmaj please do not push us to that point . xxmaj take a step back , and try to work with us , rather than against us . xxmaj or else , a huge amount of effort will be wasted , you will not be able to edit here , and nothing of your work will be left here . xxmaj so please , take this very seriously .\n",
       "y: MultiCategoryList\n",
       ",toxic;severe_toxic;obscene,,,\n",
       "Path: data;\n",
       "\n",
       "Test: LabelList (153164 items)\n",
       "x: TextList\n",
       "xxbos xxmaj yo bitch xxmaj ja xxmaj rule is more succesful then you 'll ever be what s up with you and hating you sad xxunk ... i should bitch slap ur xxunk white faces and get you to kiss my ass you guys sicken me . xxmaj ja rule is about pride in da music man . do nt diss that shit on him . and nothin is wrong bein like tupac he was a brother too ... fuckin white boys get things right next time . ,,xxbos = = xxmaj from rfc = = \n",
       " \n",
       "  xxmaj the title is fine as it is , xxup imo .,xxbos \" \n",
       " \n",
       "  = = xxmaj sources = = \n",
       " \n",
       "  * xxmaj xxunk xxmaj ashton on xxmaj lapland — / \",xxbos : xxmaj if you have a look back at the source , the information i updated was the correct form . i can only guess the source had n't updated . i shall update the information once again but thank you for your message .,xxbos i do n't anonymously edit articles at all .\n",
       "y: EmptyLabelList\n",
       ",,,,\n",
       "Path: data, model=SequentialRNN(\n",
       "  (0): MultiBatchEncoder(\n",
       "    (module): AWD_LSTM(\n",
       "      (encoder): Embedding(60000, 400, padding_idx=1)\n",
       "      (encoder_dp): EmbeddingDropout(\n",
       "        (emb): Embedding(60000, 400, padding_idx=1)\n",
       "      )\n",
       "      (rnns): ModuleList(\n",
       "        (0): WeightDropout(\n",
       "          (module): LSTM(400, 1152, batch_first=True)\n",
       "        )\n",
       "        (1): WeightDropout(\n",
       "          (module): LSTM(1152, 1152, batch_first=True)\n",
       "        )\n",
       "        (2): WeightDropout(\n",
       "          (module): LSTM(1152, 400, batch_first=True)\n",
       "        )\n",
       "      )\n",
       "      (input_dp): RNNDropout()\n",
       "      (hidden_dps): ModuleList(\n",
       "        (0): RNNDropout()\n",
       "        (1): RNNDropout()\n",
       "        (2): RNNDropout()\n",
       "      )\n",
       "    )\n",
       "  )\n",
       "  (1): PoolingLinearClassifier(\n",
       "    (layers): Sequential(\n",
       "      (0): BatchNorm1d(1200, eps=1e-05, momentum=0.1, affine=True, track_running_stats=True)\n",
       "      (1): Dropout(p=0.2, inplace=False)\n",
       "      (2): Linear(in_features=1200, out_features=50, bias=True)\n",
       "      (3): ReLU(inplace=True)\n",
       "      (4): BatchNorm1d(50, eps=1e-05, momentum=0.1, affine=True, track_running_stats=True)\n",
       "      (5): Dropout(p=0.1, inplace=False)\n",
       "      (6): Linear(in_features=50, out_features=6, bias=True)\n",
       "    )\n",
       "  )\n",
       "), opt_func=functools.partial(<class 'torch.optim.adam.Adam'>, betas=(0.9, 0.99)), loss_func=FlattenedLoss of BCEWithLogitsLoss(), metrics=[], true_wd=True, bn_wd=True, wd=0.01, train_bn=True, path=PosixPath('data'), model_dir='models', callback_fns=[functools.partial(<class 'fastai.basic_train.Recorder'>, add_time=True, silent=False)], callbacks=[RNNTrainer\n",
       "learn: RNNLearner(data=TextClasDataBunch;\n",
       "\n",
       "Train: LabelList (143614 items)\n",
       "x: TextList\n",
       "xxbos xxmaj explanation \n",
       "  xxmaj why the edits made under my username xxmaj hardcore xxmaj metallica xxmaj fan were reverted ? xxmaj they were n't vandalisms , just closure on some gas after i voted at xxmaj new xxmaj york xxmaj dolls xxup fac . xxmaj and please do n't remove the template from the talk page since i 'm retired xxunk,xxbos xxmaj xxunk ! xxmaj he matches this background colour i 'm seemingly stuck with . xxmaj thanks . ( talk ) 21:51 , xxmaj january 11 , 2016 ( xxup utc ),xxbos xxmaj hey man , i 'm really not trying to edit war . xxmaj it 's just that this guy is constantly removing relevant information and talking to me through edits instead of my talk page . xxmaj he seems to care more about the formatting than the actual info .,xxbos \" \n",
       "  xxmaj more \n",
       "  i ca n't make any real suggestions on improvement - i wondered if the section statistics should be later on , or a subsection of \" \" types of accidents \" \" xxup -i think the references may need tidying so that they are all in the exact same format ie date format etc . i can do that later on , if no - one else does first - if you have any preferences for formatting style on references or want to do it yourself please let me know . \n",
       " \n",
       "  xxmaj there appears to be a backlog on articles for review so i guess there may be a delay until a reviewer turns up . xxmaj it 's listed in the relevant form eg xxmaj wikipedia : xxmaj xxunk # xxmaj transport \",xxbos xxmaj you , sir , are my hero . xxmaj any chance you remember what page that 's on ?\n",
       "y: MultiCategoryList\n",
       ",,,,\n",
       "Path: data;\n",
       "\n",
       "Valid: LabelList (15957 items)\n",
       "x: TextList\n",
       "xxbos xxmaj march 2012 ( xxup utc ) \n",
       "  right on . xxmaj great idea to use the xxmaj amazon feature ! xxmaj glad you wrestled this one to the ground . xxmaj and you 're right . xxmaj my refs are accurate . xxmaj going to making a few other edits in the next few days . xxmaj found one problem in particular with another editor 's assertion . xxmaj later , 17:17 , 27,xxbos xxup fuck xxup you ! xxup fuck xxup you ! xxup fuck xxup you ! xxup fuck xxup you ! \n",
       "  xxup fuck xxup you ! xxup fuck xxup you ! \n",
       "  xxup fuck xxup you ! xxup fuck xxup you ! \n",
       "  xxup fuck xxup you ! xxup fuck xxup you ! \n",
       "  xxup fuck xxup you ! xxup fuck xxup you ! \n",
       "  xxup fuck xxup you ! xxup fuck xxup you ! \n",
       "  xxup fuck xxup you ! xxup fuck xxup you ! \n",
       "  xxup fuck xxup you ! xxup fuck xxup you !,xxbos xxmaj if you do n't want to help the cat that 's been run over then do n't stand there and xxup poke xxup it .,xxbos xxmaj now i know what the money that i have contributed to wikipedia has really been used for . xxmaj thank you for the lesson .,xxbos xxmaj advice \n",
       " \n",
       "  i and a few other editors have noticed what appears to be a tendency to ignore consensus , engage in tendentious editing , and create xxup pov forks like xxmaj theistic evolution and the xxmaj roman xxmaj catholic xxmaj church and xxmaj creation and the xxmaj roman xxmaj catholic xxmaj church . xxmaj these will almost certainly be deleted in a few days . xxmaj you are creating ill will and turmoil , and i am pleading with you to try to behave in a constructive manner instead of your past behavior here . xxmaj if this continues , you will be banned , or blocked or otherwise restricted from xxmaj wikipedia . xxmaj please do not push us to that point . xxmaj take a step back , and try to work with us , rather than against us . xxmaj or else , a huge amount of effort will be wasted , you will not be able to edit here , and nothing of your work will be left here . xxmaj so please , take this very seriously .\n",
       "y: MultiCategoryList\n",
       ",toxic;severe_toxic;obscene,,,\n",
       "Path: data;\n",
       "\n",
       "Test: LabelList (153164 items)\n",
       "x: TextList\n",
       "xxbos xxmaj yo bitch xxmaj ja xxmaj rule is more succesful then you 'll ever be what s up with you and hating you sad xxunk ... i should bitch slap ur xxunk white faces and get you to kiss my ass you guys sicken me . xxmaj ja rule is about pride in da music man . do nt diss that shit on him . and nothin is wrong bein like tupac he was a brother too ... fuckin white boys get things right next time . ,,xxbos = = xxmaj from rfc = = \n",
       " \n",
       "  xxmaj the title is fine as it is , xxup imo .,xxbos \" \n",
       " \n",
       "  = = xxmaj sources = = \n",
       " \n",
       "  * xxmaj xxunk xxmaj ashton on xxmaj lapland — / \",xxbos : xxmaj if you have a look back at the source , the information i updated was the correct form . i can only guess the source had n't updated . i shall update the information once again but thank you for your message .,xxbos i do n't anonymously edit articles at all .\n",
       "y: EmptyLabelList\n",
       ",,,,\n",
       "Path: data, model=SequentialRNN(\n",
       "  (0): MultiBatchEncoder(\n",
       "    (module): AWD_LSTM(\n",
       "      (encoder): Embedding(60000, 400, padding_idx=1)\n",
       "      (encoder_dp): EmbeddingDropout(\n",
       "        (emb): Embedding(60000, 400, padding_idx=1)\n",
       "      )\n",
       "      (rnns): ModuleList(\n",
       "        (0): WeightDropout(\n",
       "          (module): LSTM(400, 1152, batch_first=True)\n",
       "        )\n",
       "        (1): WeightDropout(\n",
       "          (module): LSTM(1152, 1152, batch_first=True)\n",
       "        )\n",
       "        (2): WeightDropout(\n",
       "          (module): LSTM(1152, 400, batch_first=True)\n",
       "        )\n",
       "      )\n",
       "      (input_dp): RNNDropout()\n",
       "      (hidden_dps): ModuleList(\n",
       "        (0): RNNDropout()\n",
       "        (1): RNNDropout()\n",
       "        (2): RNNDropout()\n",
       "      )\n",
       "    )\n",
       "  )\n",
       "  (1): PoolingLinearClassifier(\n",
       "    (layers): Sequential(\n",
       "      (0): BatchNorm1d(1200, eps=1e-05, momentum=0.1, affine=True, track_running_stats=True)\n",
       "      (1): Dropout(p=0.2, inplace=False)\n",
       "      (2): Linear(in_features=1200, out_features=50, bias=True)\n",
       "      (3): ReLU(inplace=True)\n",
       "      (4): BatchNorm1d(50, eps=1e-05, momentum=0.1, affine=True, track_running_stats=True)\n",
       "      (5): Dropout(p=0.1, inplace=False)\n",
       "      (6): Linear(in_features=50, out_features=6, bias=True)\n",
       "    )\n",
       "  )\n",
       "), opt_func=functools.partial(<class 'torch.optim.adam.Adam'>, betas=(0.9, 0.99)), loss_func=FlattenedLoss of BCEWithLogitsLoss(), metrics=[], true_wd=True, bn_wd=True, wd=0.01, train_bn=True, path=PosixPath('data'), model_dir='models', callback_fns=[functools.partial(<class 'fastai.basic_train.Recorder'>, add_time=True, silent=False)], callbacks=[...], layer_groups=[Sequential(\n",
       "  (0): Embedding(60000, 400, padding_idx=1)\n",
       "  (1): EmbeddingDropout(\n",
       "    (emb): Embedding(60000, 400, padding_idx=1)\n",
       "  )\n",
       "), Sequential(\n",
       "  (0): WeightDropout(\n",
       "    (module): LSTM(400, 1152, batch_first=True)\n",
       "  )\n",
       "  (1): RNNDropout()\n",
       "), Sequential(\n",
       "  (0): WeightDropout(\n",
       "    (module): LSTM(1152, 1152, batch_first=True)\n",
       "  )\n",
       "  (1): RNNDropout()\n",
       "), Sequential(\n",
       "  (0): WeightDropout(\n",
       "    (module): LSTM(1152, 400, batch_first=True)\n",
       "  )\n",
       "  (1): RNNDropout()\n",
       "), Sequential(\n",
       "  (0): PoolingLinearClassifier(\n",
       "    (layers): Sequential(\n",
       "      (0): BatchNorm1d(1200, eps=1e-05, momentum=0.1, affine=True, track_running_stats=True)\n",
       "      (1): Dropout(p=0.2, inplace=False)\n",
       "      (2): Linear(in_features=1200, out_features=50, bias=True)\n",
       "      (3): ReLU(inplace=True)\n",
       "      (4): BatchNorm1d(50, eps=1e-05, momentum=0.1, affine=True, track_running_stats=True)\n",
       "      (5): Dropout(p=0.1, inplace=False)\n",
       "      (6): Linear(in_features=50, out_features=6, bias=True)\n",
       "    )\n",
       "  )\n",
       ")], add_time=True, silent=False)\n",
       "alpha: 2.0\n",
       "beta: 1.0], layer_groups=[Sequential(\n",
       "  (0): Embedding(60000, 400, padding_idx=1)\n",
       "  (1): EmbeddingDropout(\n",
       "    (emb): Embedding(60000, 400, padding_idx=1)\n",
       "  )\n",
       "), Sequential(\n",
       "  (0): WeightDropout(\n",
       "    (module): LSTM(400, 1152, batch_first=True)\n",
       "  )\n",
       "  (1): RNNDropout()\n",
       "), Sequential(\n",
       "  (0): WeightDropout(\n",
       "    (module): LSTM(1152, 1152, batch_first=True)\n",
       "  )\n",
       "  (1): RNNDropout()\n",
       "), Sequential(\n",
       "  (0): WeightDropout(\n",
       "    (module): LSTM(1152, 400, batch_first=True)\n",
       "  )\n",
       "  (1): RNNDropout()\n",
       "), Sequential(\n",
       "  (0): PoolingLinearClassifier(\n",
       "    (layers): Sequential(\n",
       "      (0): BatchNorm1d(1200, eps=1e-05, momentum=0.1, affine=True, track_running_stats=True)\n",
       "      (1): Dropout(p=0.2, inplace=False)\n",
       "      (2): Linear(in_features=1200, out_features=50, bias=True)\n",
       "      (3): ReLU(inplace=True)\n",
       "      (4): BatchNorm1d(50, eps=1e-05, momentum=0.1, affine=True, track_running_stats=True)\n",
       "      (5): Dropout(p=0.1, inplace=False)\n",
       "      (6): Linear(in_features=50, out_features=6, bias=True)\n",
       "    )\n",
       "  )\n",
       ")], add_time=True, silent=False)"
      ]
     },
     "execution_count": 8,
     "metadata": {},
     "output_type": "execute_result"
    }
   ],
   "source": [
    "learn = text_classifier_learner(data_clas, AWD_LSTM, drop_mult=0.5)\n",
    "learn.load_encoder('fine_tuned_enc')"
   ]
  },
  {
   "cell_type": "code",
   "execution_count": null,
   "metadata": {},
   "outputs": [],
   "source": [
    "learn.freeze()"
   ]
  },
  {
   "cell_type": "code",
   "execution_count": 31,
   "metadata": {},
   "outputs": [
    {
     "data": {
      "text/plain": [
       "6"
      ]
     },
     "execution_count": 31,
     "metadata": {},
     "output_type": "execute_result"
    }
   ],
   "source": [
    "#Check the number of labels\n",
    "data_clas.c"
   ]
  },
  {
   "cell_type": "code",
   "execution_count": 32,
   "metadata": {},
   "outputs": [
    {
     "data": {
      "text/html": [
       "\n",
       "    <div>\n",
       "        <style>\n",
       "            /* Turns off some styling */\n",
       "            progress {\n",
       "                /* gets rid of default border in Firefox and Opera. */\n",
       "                border: none;\n",
       "                /* Needs to be in here for Safari polyfill so background images work as expected. */\n",
       "                background-size: auto;\n",
       "            }\n",
       "            .progress-bar-interrupted, .progress-bar-interrupted::-webkit-progress-bar {\n",
       "                background: #F44336;\n",
       "            }\n",
       "        </style>\n",
       "      <progress value='0' class='' max='1', style='width:300px; height:20px; vertical-align: middle;'></progress>\n",
       "      0.00% [0/1 00:00<00:00]\n",
       "    </div>\n",
       "    \n",
       "<table border=\"1\" class=\"dataframe\">\n",
       "  <thead>\n",
       "    <tr style=\"text-align: left;\">\n",
       "      <th>epoch</th>\n",
       "      <th>train_loss</th>\n",
       "      <th>valid_loss</th>\n",
       "      <th>time</th>\n",
       "    </tr>\n",
       "  </thead>\n",
       "  <tbody>\n",
       "  </tbody>\n",
       "</table><p>\n",
       "\n",
       "    <div>\n",
       "        <style>\n",
       "            /* Turns off some styling */\n",
       "            progress {\n",
       "                /* gets rid of default border in Firefox and Opera. */\n",
       "                border: none;\n",
       "                /* Needs to be in here for Safari polyfill so background images work as expected. */\n",
       "                background-size: auto;\n",
       "            }\n",
       "            .progress-bar-interrupted, .progress-bar-interrupted::-webkit-progress-bar {\n",
       "                background: #F44336;\n",
       "            }\n",
       "        </style>\n",
       "      <progress value='95' class='' max='5983', style='width:300px; height:20px; vertical-align: middle;'></progress>\n",
       "      1.59% [95/5983 00:27<28:07 1.4291]\n",
       "    </div>\n",
       "    "
      ],
      "text/plain": [
       "<IPython.core.display.HTML object>"
      ]
     },
     "metadata": {},
     "output_type": "display_data"
    },
    {
     "name": "stdout",
     "output_type": "stream",
     "text": [
      "LR Finder is complete, type {learner_name}.recorder.plot() to see the graph.\n"
     ]
    }
   ],
   "source": [
    "learn.lr_find()"
   ]
  },
  {
   "cell_type": "code",
   "execution_count": 33,
   "metadata": {},
   "outputs": [
    {
     "name": "stdout",
     "output_type": "stream",
     "text": [
      "Min numerical gradient: 8.32E-02\n",
      "Min loss divided by 10: 2.51E-02\n"
     ]
    },
    {
     "data": {
      "image/png": "[encoded data removed]",
      "text/plain": [
       "<Figure size 432x288 with 1 Axes>"
      ]
     },
     "metadata": {
      "needs_background": "light"
     },
     "output_type": "display_data"
    }
   ],
   "source": [
    "learn.recorder.plot(suggestion=True, skip_end=15)"
   ]
  },
  {
   "cell_type": "code",
   "execution_count": 34,
   "metadata": {},
   "outputs": [
    {
     "data": {
      "text/plain": [
       "0.08317637711026708"
      ]
     },
     "execution_count": 34,
     "metadata": {},
     "output_type": "execute_result"
    }
   ],
   "source": [
    "min_grad_lr = learn.recorder.min_grad_lr\n",
    "min_grad_lr"
   ]
  },
  {
   "cell_type": "code",
   "execution_count": 35,
   "metadata": {},
   "outputs": [
    {
     "data": {
      "text/html": [
       "<table border=\"1\" class=\"dataframe\">\n",
       "  <thead>\n",
       "    <tr style=\"text-align: left;\">\n",
       "      <th>epoch</th>\n",
       "      <th>train_loss</th>\n",
       "      <th>valid_loss</th>\n",
       "      <th>time</th>\n",
       "    </tr>\n",
       "  </thead>\n",
       "  <tbody>\n",
       "    <tr>\n",
       "      <td>0</td>\n",
       "      <td>0.093102</td>\n",
       "      <td>1.029371</td>\n",
       "      <td>33:53</td>\n",
       "    </tr>\n",
       "  </tbody>\n",
       "</table>"
      ],
      "text/plain": [
       "<IPython.core.display.HTML object>"
      ]
     },
     "metadata": {},
     "output_type": "display_data"
    }
   ],
   "source": [
    "learn.unfreeze()\n",
    "learn.fit_one_cycle(1, slice(min_grad_lr/(2.6**4),min_grad_lr), moms=(0.8,0.7))"
   ]
  },
  {
   "cell_type": "code",
   "execution_count": 36,
   "metadata": {},
   "outputs": [],
   "source": [
    "learn.save('classifier')"
   ]
  },
  {
   "cell_type": "code",
   "execution_count": 43,
   "metadata": {},
   "outputs": [
    {
     "data": {
      "text/html": [
       "<table border=\"1\" class=\"dataframe\">\n",
       "  <thead>\n",
       "    <tr style=\"text-align: right;\">\n",
       "      <th>text</th>\n",
       "      <th>target</th>\n",
       "      <th>prediction</th>\n",
       "    </tr>\n",
       "  </thead>\n",
       "  <tbody>\n",
       "    <tr>\n",
       "      <td>xxbos \" xxrep 5 f xxrep 6 u xxrep 6 c xxrep 6 k xxrep 5 = xxup you ! f xxup uu c xxup kk xxup you xxrep 5 f xxrep 6 u xxrep 6 c xxrep 6 k xxrep 5 = xxup you ! f xxup uu c xxup kk xxup you xxrep 5 f xxrep 6 u xxrep 6 c xxrep 6 k xxrep 5 = xxup</td>\n",
       "      <td>toxic;severe_toxic;obscene;insult</td>\n",
       "      <td></td>\n",
       "    </tr>\n",
       "    <tr>\n",
       "      <td>xxbos xxup die xxup fag xxup die xxup fag xxup die xxup fag xxup die xxup fag xxup die xxup fag xxup die xxup fag xxup die xxup fag xxup die xxup fag xxup die xxup fag xxup die xxup fag xxup die xxup fag xxup die xxup fag xxup die xxup fag xxup die xxup fag xxup die xxup fag xxup die xxup fag xxup die xxup fag xxup</td>\n",
       "      <td>toxic</td>\n",
       "      <td>toxic;obscene;insult</td>\n",
       "    </tr>\n",
       "    <tr>\n",
       "      <td>xxbos xxup fuck xxup you , xxup you xxup atheist xxup cunt ! xxup fuck xxup you , xxup you xxup atheist xxup cunt ! xxup fuck xxup you , xxup you xxup atheist xxup cunt ! xxup fuck xxup you , xxup you xxup atheist xxup cunt ! xxup fuck xxup you , xxup you xxup atheist xxup cunt ! xxup fuck xxup you , xxup you xxup atheist</td>\n",
       "      <td>toxic;severe_toxic;obscene;insult</td>\n",
       "      <td>toxic;severe_toxic;obscene;insult</td>\n",
       "    </tr>\n",
       "    <tr>\n",
       "      <td>xxbos \" \\n \\n \\n  xxup mongo , tell us . xxup why xxup did xxup you xxup do xxup wtc ? xxmaj why xxup mongo ? xxup mongo , tell us . xxup why xxup did xxup you xxup do xxup wtc ? xxmaj why xxup mongo ? xxup mongo , tell us . xxup why xxup did xxup you xxup do xxup wtc ? xxmaj why xxup</td>\n",
       "      <td>toxic</td>\n",
       "      <td></td>\n",
       "    </tr>\n",
       "    <tr>\n",
       "      <td>xxbos i xxup can xxup still xxup post xxup with xxup this xxup computer ... i xxup said xxup block xxup me , xxup come xxup the xxup fuck xxup down xxup here xxup and xxup arrest xxup me ... xxup san xxup diego xxup california , xxup chula xxup vista , xxup fucking xxup get xxup your xxup information xxup right xxup faggot shithead!!i xxup can xxup still xxup</td>\n",
       "      <td>toxic;severe_toxic;obscene;insult</td>\n",
       "      <td>toxic;severe_toxic;obscene;insult</td>\n",
       "    </tr>\n",
       "  </tbody>\n",
       "</table>"
      ],
      "text/plain": [
       "<IPython.core.display.HTML object>"
      ]
     },
     "metadata": {},
     "output_type": "display_data"
    }
   ],
   "source": [
    "learn.load('classifier')\n",
    "learn.show_results()"
   ]
  },
  {
   "cell_type": "markdown",
   "metadata": {},
   "source": [
    "## Evaluate results"
   ]
  },
  {
   "cell_type": "code",
   "execution_count": 29,
   "metadata": {},
   "outputs": [],
   "source": [
    "from sklearn.metrics import precision_score, recall_score, accuracy_score, f1_score\n",
    "from sklearn.metrics import classification_report"
   ]
  },
  {
   "cell_type": "code",
   "execution_count": 44,
   "metadata": {},
   "outputs": [
    {
     "data": {
      "text/html": [],
      "text/plain": [
       "<IPython.core.display.HTML object>"
      ]
     },
     "metadata": {},
     "output_type": "display_data"
    }
   ],
   "source": [
    "# Predict on the validation dataset\n",
    "y_pred, y_true = learn.get_preds()"
   ]
  },
  {
   "cell_type": "code",
   "execution_count": 45,
   "metadata": {},
   "outputs": [
    {
     "data": {
      "text/plain": [
       "0.549812030075188"
      ]
     },
     "execution_count": 45,
     "metadata": {},
     "output_type": "execute_result"
    }
   ],
   "source": [
    "f1_score(y_true, y_pred>0.35, average='micro')"
   ]
  },
  {
   "cell_type": "code",
   "execution_count": 46,
   "metadata": {},
   "outputs": [],
   "source": [
    "y_test = y_true.numpy()\n",
    "scores = y_pred.numpy()"
   ]
  },
  {
   "cell_type": "code",
   "execution_count": 47,
   "metadata": {},
   "outputs": [
    {
     "data": {
      "text/plain": [
       "((15957, 6), (15957, 6))"
      ]
     },
     "execution_count": 47,
     "metadata": {},
     "output_type": "execute_result"
    }
   ],
   "source": [
    "scores.shape, y_test.shape"
   ]
  },
  {
   "cell_type": "code",
   "execution_count": 48,
   "metadata": {},
   "outputs": [
    {
     "data": {
      "text/plain": [
       "array([[9.986725e-02, 4.393694e-03, 3.526842e-02, 4.282800e-03, 4.319565e-02, 8.465736e-03],\n",
       "       [9.999990e-01, 9.992269e-01, 9.999998e-01, 5.373360e-01, 9.999743e-01, 8.795670e-01],\n",
       "       [1.545954e-01, 8.048576e-03, 5.606521e-02, 6.518110e-03, 6.890259e-02, 1.324652e-02],\n",
       "       [3.803169e-02, 1.348885e-03, 1.369647e-02, 1.754095e-03, 1.618589e-02, 3.736801e-03],\n",
       "       ...,\n",
       "       [8.461995e-02, 3.553905e-03, 3.014542e-02, 3.633521e-03, 3.672242e-02, 7.261533e-03],\n",
       "       [6.119698e-02, 2.172017e-03, 2.309149e-02, 2.166385e-03, 2.418558e-02, 5.367334e-03],\n",
       "       [4.690156e-03, 8.930087e-05, 2.048956e-03, 1.908210e-04, 1.780238e-03, 4.487072e-04],\n",
       "       [2.859967e-01, 1.647256e-02, 1.096890e-01, 8.071828e-03, 1.434936e-01, 1.790118e-02]], dtype=float32)"
      ]
     },
     "execution_count": 48,
     "metadata": {},
     "output_type": "execute_result"
    }
   ],
   "source": [
    "scores"
   ]
  },
  {
   "cell_type": "code",
   "execution_count": 49,
   "metadata": {},
   "outputs": [
    {
     "data": {
      "text/plain": [
       "array([[0., 0., 0., 0., 0., 0.],\n",
       "       [1., 1., 1., 0., 0., 0.],\n",
       "       [0., 0., 0., 0., 0., 0.],\n",
       "       [0., 0., 0., 0., 0., 0.],\n",
       "       ...,\n",
       "       [0., 0., 0., 0., 0., 0.],\n",
       "       [0., 0., 0., 0., 0., 0.],\n",
       "       [0., 0., 0., 0., 0., 0.],\n",
       "       [1., 0., 0., 0., 0., 0.]], dtype=float32)"
      ]
     },
     "execution_count": 49,
     "metadata": {},
     "output_type": "execute_result"
    }
   ],
   "source": [
    "y_test"
   ]
  },
  {
   "cell_type": "code",
   "execution_count": 81,
   "metadata": {},
   "outputs": [
    {
     "name": "stdout",
     "output_type": "stream",
     "text": [
      "               precision    recall  f1-score   support\n",
      "\n",
      "        toxic       0.93      0.28      0.44      1573\n",
      " severe_toxic       0.30      0.27      0.28       169\n",
      "      obscene       0.93      0.47      0.63       845\n",
      "       threat       0.05      0.13      0.07        46\n",
      "       insult       0.77      0.35      0.48       795\n",
      "identity_hate       0.08      0.04      0.05       113\n",
      "\n",
      "    micro avg       0.74      0.33      0.46      3541\n",
      "    macro avg       0.51      0.26      0.33      3541\n",
      " weighted avg       0.83      0.33      0.47      3541\n",
      "  samples avg       0.03      0.03      0.03      3541\n",
      "\n"
     ]
    }
   ],
   "source": [
    "metrics = classification_report(y_test, scores>0.85, target_names=data_clas.valid_ds.classes)\n",
    "print(metrics)"
   ]
  },
  {
   "cell_type": "code",
   "execution_count": 82,
   "metadata": {},
   "outputs": [
    {
     "data": {
      "text/plain": [
       "0.8993173966356873"
      ]
     },
     "execution_count": 82,
     "metadata": {},
     "output_type": "execute_result"
    }
   ],
   "source": [
    "micro_roc_auc_ovo = roc_auc_score(y_test, scores, multi_class=\"ovo\",\n",
    "                                  average=\"micro\")\n",
    "\n",
    "micro_roc_auc_ovo"
   ]
  }
 ],
 "metadata": {
  "kernelspec": {
   "display_name": "Python 3",
   "language": "python",
   "name": "python3"
  },
  "language_info": {
   "codemirror_mode": {
    "name": "ipython",
    "version": 3
   },
   "file_extension": ".py",
   "mimetype": "text/x-python",
   "name": "python",
   "nbconvert_exporter": "python",
   "pygments_lexer": "ipython3",
   "version": "3.6.7"
  }
 },
 "nbformat": 4,
 "nbformat_minor": 4
}
